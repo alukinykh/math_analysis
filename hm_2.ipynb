{
 "cells": [
  {
   "cell_type": "code",
   "execution_count": 27,
   "id": "8732c6fb",
   "metadata": {},
   "outputs": [],
   "source": [
    "import math"
   ]
  },
  {
   "cell_type": "markdown",
   "id": "bc529469",
   "metadata": {},
   "source": [
    "Тема 3 “Последовательность”"
   ]
  },
  {
   "cell_type": "markdown",
   "id": "28a19296",
   "metadata": {},
   "source": [
    "1. c) найти пятый по счету член"
   ]
  },
  {
   "cell_type": "code",
   "execution_count": 19,
   "id": "df07121c",
   "metadata": {},
   "outputs": [
    {
     "name": "stdout",
     "output_type": "stream",
     "text": [
      "1\n",
      "2\n",
      "5\n",
      "12\n",
      "27\n",
      "58\n",
      "121\n",
      "248\n",
      "503\n",
      "Пятый член = 27\n"
     ]
    }
   ],
   "source": [
    "for n in range(1, 10):\n",
    "    print(2**n - n)\n",
    "print(f'Пятый член = {2**5 - 5}')"
   ]
  },
  {
   "cell_type": "code",
   "execution_count": 24,
   "id": "8de2a1c9",
   "metadata": {},
   "outputs": [
    {
     "name": "stdout",
     "output_type": "stream",
     "text": [
      "-1.0\n",
      "-0.5\n",
      "-0.3333333333333333\n",
      "-0.25\n",
      "-0.2\n",
      "-0.16666666666666666\n",
      "-0.14285714285714285\n",
      "-0.125\n",
      "-0.1111111111111111\n",
      "-0.1\n",
      "Пятый член = -0.2\n"
     ]
    }
   ],
   "source": [
    "for n in range(2, 12):\n",
    "    print(1/(1 - n))\n",
    "print(f'Пятый член = {1/(1 - 6)}')"
   ]
  },
  {
   "cell_type": "code",
   "execution_count": 21,
   "id": "6fd17fbb",
   "metadata": {},
   "outputs": [
    {
     "name": "stdout",
     "output_type": "stream",
     "text": [
      "0.41421356237309515\n",
      "3.0\n",
      "1.4494897427831779\n",
      "3.8284271247461903\n",
      "2.1622776601683795\n",
      "4.464101615137754\n",
      "2.7416573867739413\n",
      "5.0\n",
      "3.2426406871192848\n",
      "Пятый член = 2.1622776601683795\n"
     ]
    }
   ],
   "source": [
    "for n in range(1, 10):\n",
    "    print((-1)**n + math.sqrt(2*n))\n",
    "print(f'Пятый член = {(-1)**5 + math.sqrt(2*5)}')"
   ]
  },
  {
   "cell_type": "code",
   "execution_count": 30,
   "id": "d1cef00d",
   "metadata": {},
   "outputs": [
    {
     "name": "stdout",
     "output_type": "stream",
     "text": [
      "2.0\n",
      "1.25\n",
      "1.1111111111111112\n",
      "1.0625\n",
      "1.04\n",
      "1.0277777777777777\n",
      "1.0204081632653061\n",
      "1.015625\n",
      "1.0123456790123457\n",
      "Пятый член = 1.04\n"
     ]
    }
   ],
   "source": [
    "for n in range(1, 10):\n",
    "    print((-1)**(2*n) + 1/n**2)\n",
    "print(f'Пятый член = {(-1)**(2*5) + 1/5**2}')"
   ]
  },
  {
   "cell_type": "markdown",
   "id": "7e67b8ad",
   "metadata": {},
   "source": [
    "2. Найти 12-й член заданной неявно последовательности"
   ]
  },
  {
   "cell_type": "code",
   "execution_count": 31,
   "id": "5147ea88",
   "metadata": {},
   "outputs": [
    {
     "name": "stdout",
     "output_type": "stream",
     "text": [
      "12 член заданной последовательности = 194\n"
     ]
    }
   ],
   "source": [
    "print(f'12 член заданной последовательности = {128 + 6*11}')"
   ]
  },
  {
   "cell_type": "code",
   "execution_count": null,
   "id": "5e15086d",
   "metadata": {},
   "outputs": [],
   "source": []
  }
 ],
 "metadata": {
  "kernelspec": {
   "display_name": "Python 3",
   "language": "python",
   "name": "python3"
  },
  "language_info": {
   "codemirror_mode": {
    "name": "ipython",
    "version": 3
   },
   "file_extension": ".py",
   "mimetype": "text/x-python",
   "name": "python",
   "nbconvert_exporter": "python",
   "pygments_lexer": "ipython3",
   "version": "3.9.5"
  }
 },
 "nbformat": 4,
 "nbformat_minor": 5
}
